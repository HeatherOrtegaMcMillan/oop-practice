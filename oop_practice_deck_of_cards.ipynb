{
 "cells": [
  {
   "cell_type": "markdown",
   "id": "548ae6c9-598f-43c9-b552-87ec6cdef324",
   "metadata": {},
   "source": [
    "# OOP Practice\n",
    "Object Oriented Programming Practice [link](https://www.rithmschool.com/courses/python-fundamentals-part-2/python-object-oriented-programming-exercises)\n",
    "\n",
    "Part 1\n",
    "Answer the following questions.\n",
    "\n",
    "- What is a class?\n",
    "    - A type of object \n",
    "- What is an instance?\n",
    "    - instance of object\n",
    "    - instance = class()\n",
    "- What is encapsulation?\n",
    "    - data hiding\n",
    "    - public and private access to methods and properties of objects.\n",
    "    - can change with getter and setter functions\n",
    "    - don't give everyone access to the properties\n",
    "- What is abstraction?\n",
    "    - Only exposing the necessary details to the user of the object.\n",
    "- What is inheritance?\n",
    "    - Allows for code resuability. Can create sub classes from super classes (or child - parent).  \n",
    "- What is multiple inheritance?\n",
    "    - More levels of child level classes\n",
    "- What is polymorphism?\n",
    "    - Comes from many and forms\n",
    "    - Allows you to determine what function to run while the program is running\n",
    "    - call methods on a class if what's calling it is a pointer of a parent object\n",
    "    - if it's overridden by a child class it will call that\n",
    "- What is method resolution order or MRO?\n",
    "    - Will only go up the chain in order to find the correct method to use. up meaning closer to the parent. \n",
    "\n",
    "Part 2\n",
    "Create a deck of cards class. Internally, the deck of cards should use another class, a card class. Your requirements are:\n",
    "\n",
    "- The Deck class should have a deal method to deal a single card from the deck\n",
    "- After a card is dealt, it is removed from the deck.\n",
    "- There should be a shuffle method which makes sure the deck of cards has all 52 cards and then rearranges them randomly.\n",
    "- The Card class should have a suit (Hearts, Diamonds, Clubs, Spades) and a value (A,2,3,4,5,6,7,8,9,10,J,Q,K)"
   ]
  },
  {
   "cell_type": "code",
   "execution_count": 2,
   "id": "d8347d6a-6679-47d4-aaaa-290eef21dc8f",
   "metadata": {},
   "outputs": [],
   "source": [
    "from random import shuffle "
   ]
  },
  {
   "cell_type": "code",
   "execution_count": 8,
   "id": "33adcdc5-9252-47fd-aa5c-0899a52bc659",
   "metadata": {},
   "outputs": [],
   "source": [
    "# create ard class\n",
    "class card(): \n",
    "    \n",
    "    # create suit\n",
    "    # use initalize \n",
    "    def __init__(self, suit, value):\n",
    "        # self refers to the class assigning the suit to the suit attribute of the self\n",
    "        self.suit = suit\n",
    "        self.value = value\n",
    "\n",
    "    def __repr__(self):\n",
    "        return (f'{self.value} of {self.suit}')"
   ]
  },
  {
   "cell_type": "code",
   "execution_count": 9,
   "id": "ab2715b7-e1a1-4df8-a841-233d75c5e681",
   "metadata": {},
   "outputs": [],
   "source": [
    "# create deck class\n",
    "class deck:\n",
    "    \n",
    "    # initalize deck\n",
    "    def __init__(self):\n",
    "        # set suit options\n",
    "        suits = ['Hearts', 'Spades', 'Clubs', 'Diamonds']\n",
    "        \n",
    "        # set value options\n",
    "        values = ['A', '2', '3', '4', '5', '6', '7', '8', '9', '10', 'J', 'Q', 'K']\n",
    "        \n",
    "        # list comp create all my cards 52 of them \n",
    "        # deck.cards is a list\n",
    "        deck.cards = [card(suit, value) for suit in suits for value in values ]\n",
    "        \n",
    "    def __repr__(self):\n",
    "        # create output for when you call the card class\n",
    "        # show how many cards are left\n",
    "        return (f'There are {len(deck.cards)} left in the deck')\n",
    "    \n",
    "    # create deal function\n",
    "    def deal(self):\n",
    "        # if card is dealt it is removed from the deck\n",
    "        if len(deck.cards) == 0:\n",
    "            return ValueError('There are no more cards to deal')\n",
    "        \n",
    "        # take out first card and doesn't return it to the list of cards\n",
    "        return deck.cards.pop()\n",
    "        \n",
    "    \n",
    "    # create shuffle method\n",
    "    def shuffle(self): \n",
    "        # must have full 52 cards to deal\n",
    "        if len(self.cards) != 52:\n",
    "            \n",
    "            #return an error if there aren't 52 cards\n",
    "            return ValueError('Only decks with 52 cards can be shuffled')\n",
    "        \n",
    "        # rearranges randomly\n",
    "        shuffle(self.cards)\n",
    "        \n",
    "        return self"
   ]
  },
  {
   "cell_type": "code",
   "execution_count": 10,
   "id": "38f58608-6668-4345-9687-b550e685169e",
   "metadata": {},
   "outputs": [],
   "source": [
    "my_deck = deck()"
   ]
  },
  {
   "cell_type": "code",
   "execution_count": 11,
   "id": "57ee3490-b991-4de2-a917-2712ef42d351",
   "metadata": {},
   "outputs": [
    {
     "data": {
      "text/plain": [
       "There are 52 left in the deck"
      ]
     },
     "execution_count": 11,
     "metadata": {},
     "output_type": "execute_result"
    }
   ],
   "source": [
    "my_deck"
   ]
  },
  {
   "cell_type": "code",
   "execution_count": 12,
   "id": "e65a1d35-2180-4bc2-ace4-857af4c7098f",
   "metadata": {},
   "outputs": [
    {
     "data": {
      "text/plain": [
       "There are 52 left in the deck"
      ]
     },
     "execution_count": 12,
     "metadata": {},
     "output_type": "execute_result"
    }
   ],
   "source": [
    "my_deck.shuffle()"
   ]
  },
  {
   "cell_type": "code",
   "execution_count": 13,
   "id": "b32d4513-dbaa-4f28-a711-560f3e2e37e9",
   "metadata": {},
   "outputs": [
    {
     "data": {
      "text/plain": [
       "4 of Hearts"
      ]
     },
     "execution_count": 13,
     "metadata": {},
     "output_type": "execute_result"
    }
   ],
   "source": [
    "my_deck.deal()"
   ]
  },
  {
   "cell_type": "code",
   "execution_count": 14,
   "id": "c62d70e3-62a3-4d19-9605-3e40c5e311aa",
   "metadata": {},
   "outputs": [
    {
     "data": {
      "text/plain": [
       "There are 51 left in the deck"
      ]
     },
     "execution_count": 14,
     "metadata": {},
     "output_type": "execute_result"
    }
   ],
   "source": [
    "my_deck"
   ]
  },
  {
   "cell_type": "code",
   "execution_count": 15,
   "id": "dd75eb54-8265-4359-92d3-bf48585bb4d3",
   "metadata": {},
   "outputs": [
    {
     "data": {
      "text/plain": [
       "ValueError('Only decks with 52 cards can be shuffled')"
      ]
     },
     "execution_count": 15,
     "metadata": {},
     "output_type": "execute_result"
    }
   ],
   "source": [
    "my_deck.shuffle()"
   ]
  },
  {
   "cell_type": "markdown",
   "id": "718aae1c-3696-4404-8771-51efcdedf2eb",
   "metadata": {},
   "source": [
    "----\n",
    "#### The next exercises can be found [here](https://pynative.com/python-object-oriented-programming-oop-exercise/).\n",
    "\n",
    "1. OOP Exercise 1: Create a Vehicle class with max_speed and mileage instance attributes"
   ]
  },
  {
   "cell_type": "code",
   "execution_count": 17,
   "id": "ec85fa19-46b4-42ec-a09f-fbbb5a1a4819",
   "metadata": {},
   "outputs": [],
   "source": [
    "class Vehicle():\n",
    "    \n",
    "    def __init__(self, max_speed, mileage):\n",
    "        self.max_speed = max_speed\n",
    "        self.mileage = mileage\n",
    "        "
   ]
  },
  {
   "cell_type": "code",
   "execution_count": 18,
   "id": "e2d36b3f-a289-42c9-a682-e022bd9bedcb",
   "metadata": {},
   "outputs": [
    {
     "name": "stdout",
     "output_type": "stream",
     "text": [
      "240 18\n"
     ]
    }
   ],
   "source": [
    "# Check the solution\n",
    "modelX = Vehicle(240, 18)\n",
    "print(modelX.max_speed, modelX.mileage)"
   ]
  },
  {
   "cell_type": "markdown",
   "id": "4b674261-f282-4c67-9d38-11d8aba489e5",
   "metadata": {},
   "source": [
    "2. OOP Exercise 2: Create a Vehicle class without any variables and methods"
   ]
  },
  {
   "cell_type": "code",
   "execution_count": 22,
   "id": "f8530098-45fb-4639-8e20-f56fad02ab74",
   "metadata": {},
   "outputs": [],
   "source": [
    "# create class\n",
    "class Vehicle():\n",
    "    \n",
    "    # pass is the command that lets you leave it empty\n",
    "    pass"
   ]
  },
  {
   "cell_type": "markdown",
   "id": "7906b686-9193-469e-a598-a236ed44e282",
   "metadata": {},
   "source": [
    "3. OOP Exercise 3: Create a child class Bus that will inherit all of the variables and methods of the Vehicle class:\n",
    "\n",
    "Given:\n",
    "```python\n",
    "class Vehicle:\n",
    "\n",
    "    def __init__(self, name, max_speed, mileage):\n",
    "        self.name = name\n",
    "        self.max_speed = max_speed\n",
    "        self.mileage = mileage\n",
    "```"
   ]
  },
  {
   "cell_type": "code",
   "execution_count": 24,
   "id": "cba4be93-a2d0-4314-acac-b918f27799a3",
   "metadata": {},
   "outputs": [],
   "source": [
    "class Vehicle:\n",
    "\n",
    "    def __init__(self, name, max_speed, mileage):\n",
    "        self.name = name\n",
    "        self.max_speed = max_speed\n",
    "        self.mileage = mileage\n",
    "\n",
    "# to create child class, must put parent class in parenthesis \n",
    "class Bus(Vehicle):\n",
    "    \n",
    "    # pass will allow the child class to inherit all charachteristics from parent\n",
    "    pass"
   ]
  },
  {
   "cell_type": "code",
   "execution_count": 25,
   "id": "cd11f798-b475-4db9-892d-6c7e4b3b2945",
   "metadata": {},
   "outputs": [
    {
     "name": "stdout",
     "output_type": "stream",
     "text": [
      "Vehicle Name: School Volvo Speed: 180 Mileage: 12\n"
     ]
    }
   ],
   "source": [
    "# test check\n",
    "School_bus = Bus(\"School Volvo\", 180, 12)\n",
    "print(\"Vehicle Name:\", School_bus.name, \"Speed:\", School_bus.max_speed, \"Mileage:\", School_bus.mileage)"
   ]
  },
  {
   "cell_type": "markdown",
   "id": "09f529ce-dfdc-41c6-90d0-4f439de4f38d",
   "metadata": {},
   "source": [
    "4. Given:\n",
    "\n",
    "Create a Bus class that inherits from the Vehicle class. Give the capacity argument of Bus.seating_capacity() a default value of 50.\n",
    "\n",
    "Use the following code for your parent Vehicle class. You need to use method overriding."
   ]
  },
  {
   "cell_type": "code",
   "execution_count": 26,
   "id": "6b993535-88e6-431e-8dde-63f8e02be46d",
   "metadata": {},
   "outputs": [],
   "source": [
    "# code given for exercise\n",
    "class Vehicle:\n",
    "    def __init__(self, name, max_speed, mileage):\n",
    "        self.name = name\n",
    "        self.max_speed = max_speed\n",
    "        self.mileage = mileage\n",
    "\n",
    "    def seating_capacity(self, capacity):\n",
    "        return f\"The seating capacity of a {self.name} is {capacity} passengers\"\n"
   ]
  },
  {
   "cell_type": "code",
   "execution_count": 30,
   "id": "783198a9-4a4c-41aa-b88e-c2f74d82ec47",
   "metadata": {},
   "outputs": [],
   "source": [
    "class Bus(Vehicle):\n",
    "    \n",
    "    def seating_capacity(self, capacity = 50):\n",
    "        # using super() is how you do method overriding\n",
    "        return super().seating_capacity(capacity=50)"
   ]
  },
  {
   "cell_type": "code",
   "execution_count": 29,
   "id": "90c9903f-d711-45fe-a2d6-1a5cad25ea19",
   "metadata": {},
   "outputs": [
    {
     "name": "stdout",
     "output_type": "stream",
     "text": [
      "The seating capacity of a School Volvo is 50 passengers\n"
     ]
    }
   ],
   "source": [
    "# test check\n",
    "School_bus = Bus(\"School Volvo\", 180, 12)\n",
    "print(School_bus.seating_capacity())"
   ]
  },
  {
   "cell_type": "markdown",
   "id": "a66325dc-75ab-4b0a-8a02-6315833348bd",
   "metadata": {},
   "source": [
    "5. OOP Exercise 5: Define property that should have the same value for every class instance. \n",
    "Define a class attribute”color” with a default value white. I.e., Every Vehicle should be white.\n",
    "Use the following code for this exercise."
   ]
  },
  {
   "cell_type": "code",
   "execution_count": 32,
   "id": "fd9a9198-5a12-450e-bf05-ff04f78d557d",
   "metadata": {},
   "outputs": [],
   "source": [
    "class Vehicle:\n",
    "\n",
    "    def __init__(self, name, max_speed, mileage):\n",
    "        self.name = name\n",
    "        self.max_speed = max_speed\n",
    "        self.mileage = mileage\n",
    "        # this works\n",
    "        self.color = 'White'\n",
    "\n",
    "class Bus(Vehicle):\n",
    "    pass\n",
    "\n",
    "class Car(Vehicle):\n",
    "    pass"
   ]
  },
  {
   "cell_type": "code",
   "execution_count": 37,
   "id": "13479700-20ea-467f-b499-214ce1fb3fdf",
   "metadata": {},
   "outputs": [
    {
     "name": "stdout",
     "output_type": "stream",
     "text": [
      "White School Volvo Speed: 180 Mileage: 12\n",
      "White Audi Q5 Speed: 240 Mileage: 18\n"
     ]
    }
   ],
   "source": [
    "School_bus = Bus(\"School Volvo\", 180, 12)\n",
    "print(School_bus.color, School_bus.name, \"Speed:\", School_bus.max_speed, \"Mileage:\", School_bus.mileage)\n",
    "\n",
    "car = Car(\"Audi Q5\", 240, 18)\n",
    "print(car.color, car.name, \"Speed:\", car.max_speed, \"Mileage:\", car.mileage)\n"
   ]
  },
  {
   "cell_type": "code",
   "execution_count": 36,
   "id": "12814c74-7bad-4ed4-a036-3ed5a91615bd",
   "metadata": {},
   "outputs": [],
   "source": [
    "class Vehicle:\n",
    "    # but this works too. Class Attribute\n",
    "    # put variable here you want to apply to everything\n",
    "    color = \"White\"\n",
    "\n",
    "    def __init__(self, name, max_speed, mileage):\n",
    "        self.name = name\n",
    "        self.max_speed = max_speed\n",
    "        self.mileage = mileage\n",
    "       \n",
    "class Bus(Vehicle):\n",
    "    pass\n",
    "\n",
    "class Car(Vehicle):\n",
    "    pass"
   ]
  },
  {
   "cell_type": "markdown",
   "id": "6ef43191-f2ec-4400-85a1-243ded46c1b6",
   "metadata": {},
   "source": [
    "6. Class Inheritance\n",
    "\n",
    "Create a Bus child class that inherits from the Vehicle class. The default fare charge of any vehicle is seating capacity * 100. If Vehicle is Bus instance, we need to add an extra 10% on full fare as a maintenance charge. So total fare for bus instance will become the final amount = total fare + 10% of the total fare.\n",
    "\n",
    "Note: The bus seating capacity is 50. so the final fare amount should be 5500. You need to override the fare() method of a Vehicle class in Bus class.\n",
    "\n",
    "Use the following code for your parent Vehicle class. We need to access the parent class from inside a method of a child class."
   ]
  },
  {
   "cell_type": "code",
   "execution_count": null,
   "id": "31b37457-4474-4d9d-abf7-2dd043a9f0da",
   "metadata": {},
   "outputs": [],
   "source": []
  }
 ],
 "metadata": {
  "kernelspec": {
   "display_name": "Python 3",
   "language": "python",
   "name": "python3"
  },
  "language_info": {
   "codemirror_mode": {
    "name": "ipython",
    "version": 3
   },
   "file_extension": ".py",
   "mimetype": "text/x-python",
   "name": "python",
   "nbconvert_exporter": "python",
   "pygments_lexer": "ipython3",
   "version": "3.8.5"
  }
 },
 "nbformat": 4,
 "nbformat_minor": 5
}
