{
 "cells": [
  {
   "cell_type": "markdown",
   "id": "548ae6c9-598f-43c9-b552-87ec6cdef324",
   "metadata": {},
   "source": [
    "# OOP Practice\n",
    "Object Oriented Programming Practice [link](https://www.rithmschool.com/courses/python-fundamentals-part-2/python-object-oriented-programming-exercises)\n",
    "\n",
    "Part 1\n",
    "Answer the following questions.\n",
    "\n",
    "- What is a class?\n",
    "    - A type of object \n",
    "- What is an instance?\n",
    "    - instance of object\n",
    "    - instance = class()\n",
    "- What is encapsulation?\n",
    "    - data hiding\n",
    "    - public and private access to methods and properties of objects.\n",
    "    - can change with getter and setter functions\n",
    "    - don't give everyone access to the properties\n",
    "- What is abstraction?\n",
    "    - Only exposing the necessary details to the user of the object.\n",
    "- What is inheritance?\n",
    "    - Allows for code resuability. Can create sub classes from super classes (or child - parent).  \n",
    "- What is multiple inheritance?\n",
    "    - More levels of child level classes\n",
    "- What is polymorphism?\n",
    "    - Comes from many and forms\n",
    "    - Allows you to determine what function to run while the program is running\n",
    "    - call methods on a class if what's calling it is a pointer of a parent object\n",
    "    - if it's overridden by a child class it will call that\n",
    "- What is method resolution order or MRO?\n",
    "    - Will only go up the chain in order to find the correct method to use. up meaning closer to the parent. \n",
    "\n",
    "Part 2\n",
    "Create a deck of cards class. Internally, the deck of cards should use another class, a card class. Your requirements are:\n",
    "\n",
    "- The Deck class should have a deal method to deal a single card from the deck\n",
    "- After a card is dealt, it is removed from the deck.\n",
    "- There should be a shuffle method which makes sure the deck of cards has all 52 cards and then rearranges them randomly.\n",
    "- The Card class should have a suit (Hearts, Diamonds, Clubs, Spades) and a value (A,2,3,4,5,6,7,8,9,10,J,Q,K)"
   ]
  },
  {
   "cell_type": "code",
   "execution_count": 2,
   "id": "d8347d6a-6679-47d4-aaaa-290eef21dc8f",
   "metadata": {},
   "outputs": [],
   "source": [
    "from random import shuffle "
   ]
  },
  {
   "cell_type": "code",
   "execution_count": 8,
   "id": "33adcdc5-9252-47fd-aa5c-0899a52bc659",
   "metadata": {},
   "outputs": [],
   "source": [
    "# create ard class\n",
    "class card(): \n",
    "    \n",
    "    # create suit\n",
    "    # use initalize \n",
    "    def __init__(self, suit, value):\n",
    "        # self refers to the class assigning the suit to the suit attribute of the self\n",
    "        self.suit = suit\n",
    "        self.value = value\n",
    "\n",
    "    def __repr__(self):\n",
    "        return (f'{self.value} of {self.suit}')"
   ]
  },
  {
   "cell_type": "code",
   "execution_count": 9,
   "id": "ab2715b7-e1a1-4df8-a841-233d75c5e681",
   "metadata": {},
   "outputs": [],
   "source": [
    "# create deck class\n",
    "class deck:\n",
    "    \n",
    "    # initalize deck\n",
    "    def __init__(self):\n",
    "        # set suit options\n",
    "        suits = ['Hearts', 'Spades', 'Clubs', 'Diamonds']\n",
    "        \n",
    "        # set value options\n",
    "        values = ['A', '2', '3', '4', '5', '6', '7', '8', '9', '10', 'J', 'Q', 'K']\n",
    "        \n",
    "        # list comp create all my cards 52 of them \n",
    "        # deck.cards is a list\n",
    "        deck.cards = [card(suit, value) for suit in suits for value in values ]\n",
    "        \n",
    "    def __repr__(self):\n",
    "        # create output for when you call the card class\n",
    "        # show how many cards are left\n",
    "        return (f'There are {len(deck.cards)} left in the deck')\n",
    "    \n",
    "    # create deal function\n",
    "    def deal(self):\n",
    "        # if card is dealt it is removed from the deck\n",
    "        if len(deck.cards) == 0:\n",
    "            return ValueError('There are no more cards to deal')\n",
    "        \n",
    "        # take out first card and doesn't return it to the list of cards\n",
    "        return deck.cards.pop()\n",
    "        \n",
    "    \n",
    "    # create shuffle method\n",
    "    def shuffle(self): \n",
    "        # must have full 52 cards to deal\n",
    "        if len(self.cards) != 52:\n",
    "            \n",
    "            #return an error if there aren't 52 cards\n",
    "            return ValueError('Only decks with 52 cards can be shuffled')\n",
    "        \n",
    "        # rearranges randomly\n",
    "        shuffle(self.cards)\n",
    "        \n",
    "        return self"
   ]
  },
  {
   "cell_type": "code",
   "execution_count": 10,
   "id": "38f58608-6668-4345-9687-b550e685169e",
   "metadata": {},
   "outputs": [],
   "source": [
    "my_deck = deck()"
   ]
  },
  {
   "cell_type": "code",
   "execution_count": 11,
   "id": "57ee3490-b991-4de2-a917-2712ef42d351",
   "metadata": {},
   "outputs": [
    {
     "data": {
      "text/plain": [
       "There are 52 left in the deck"
      ]
     },
     "execution_count": 11,
     "metadata": {},
     "output_type": "execute_result"
    }
   ],
   "source": [
    "my_deck"
   ]
  },
  {
   "cell_type": "code",
   "execution_count": 12,
   "id": "e65a1d35-2180-4bc2-ace4-857af4c7098f",
   "metadata": {},
   "outputs": [
    {
     "data": {
      "text/plain": [
       "There are 52 left in the deck"
      ]
     },
     "execution_count": 12,
     "metadata": {},
     "output_type": "execute_result"
    }
   ],
   "source": [
    "my_deck.shuffle()"
   ]
  },
  {
   "cell_type": "code",
   "execution_count": 13,
   "id": "b32d4513-dbaa-4f28-a711-560f3e2e37e9",
   "metadata": {},
   "outputs": [
    {
     "data": {
      "text/plain": [
       "4 of Hearts"
      ]
     },
     "execution_count": 13,
     "metadata": {},
     "output_type": "execute_result"
    }
   ],
   "source": [
    "my_deck.deal()"
   ]
  },
  {
   "cell_type": "code",
   "execution_count": 14,
   "id": "c62d70e3-62a3-4d19-9605-3e40c5e311aa",
   "metadata": {},
   "outputs": [
    {
     "data": {
      "text/plain": [
       "There are 51 left in the deck"
      ]
     },
     "execution_count": 14,
     "metadata": {},
     "output_type": "execute_result"
    }
   ],
   "source": [
    "my_deck"
   ]
  },
  {
   "cell_type": "code",
   "execution_count": 15,
   "id": "dd75eb54-8265-4359-92d3-bf48585bb4d3",
   "metadata": {},
   "outputs": [
    {
     "data": {
      "text/plain": [
       "ValueError('Only decks with 52 cards can be shuffled')"
      ]
     },
     "execution_count": 15,
     "metadata": {},
     "output_type": "execute_result"
    }
   ],
   "source": [
    "my_deck.shuffle()"
   ]
  },
  {
   "cell_type": "code",
   "execution_count": null,
   "id": "ec355c4e-6eb7-4b05-9688-bad1aa52c858",
   "metadata": {},
   "outputs": [],
   "source": []
  }
 ],
 "metadata": {
  "kernelspec": {
   "display_name": "Python 3",
   "language": "python",
   "name": "python3"
  },
  "language_info": {
   "codemirror_mode": {
    "name": "ipython",
    "version": 3
   },
   "file_extension": ".py",
   "mimetype": "text/x-python",
   "name": "python",
   "nbconvert_exporter": "python",
   "pygments_lexer": "ipython3",
   "version": "3.8.5"
  }
 },
 "nbformat": 4,
 "nbformat_minor": 5
}
