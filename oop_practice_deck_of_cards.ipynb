{
 "cells": [
  {
   "cell_type": "markdown",
   "id": "548ae6c9-598f-43c9-b552-87ec6cdef324",
   "metadata": {},
   "source": [
    "# OOP Practice\n",
    "Object Oriented Programming Practice [link](https://www.rithmschool.com/courses/python-fundamentals-part-2/python-object-oriented-programming-exercises)\n",
    "\n",
    "Part 1\n",
    "Answer the following questions.\n",
    "\n",
    "- What is a class?\n",
    "- What is an instance?\n",
    "- What is encapsulation?\n",
    "- What is abstraction?\n",
    "- What is inheritance?\n",
    "- What is multiple inheritance?\n",
    "- What is polymorphism?\n",
    "- What is method resolution order or MRO?\n",
    "\n",
    "Part 2\n",
    "Create a deck of cards class. Internally, the deck of cards should use another class, a card class. Your requirements are:\n",
    "\n",
    "- The Deck class should have a deal method to deal a single card from the deck\n",
    "- After a card is dealt, it is removed from the deck.\n",
    "- There should be a shuffle method which makes sure the deck of cards has all 52 cards and then rearranges them randomly.\n",
    "- The Card class should have a suit (Hearts, Diamonds, Clubs, Spades) and a value (A,2,3,4,5,6,7,8,9,10,J,Q,K)"
   ]
  },
  {
   "cell_type": "code",
   "execution_count": null,
   "id": "ab2715b7-e1a1-4df8-a841-233d75c5e681",
   "metadata": {},
   "outputs": [],
   "source": []
  }
 ],
 "metadata": {
  "kernelspec": {
   "display_name": "Python 3",
   "language": "python",
   "name": "python3"
  },
  "language_info": {
   "codemirror_mode": {
    "name": "ipython",
    "version": 3
   },
   "file_extension": ".py",
   "mimetype": "text/x-python",
   "name": "python",
   "nbconvert_exporter": "python",
   "pygments_lexer": "ipython3",
   "version": "3.8.5"
  }
 },
 "nbformat": 4,
 "nbformat_minor": 5
}
